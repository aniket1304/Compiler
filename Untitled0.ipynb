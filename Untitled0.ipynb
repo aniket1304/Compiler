{
  "nbformat": 4,
  "nbformat_minor": 0,
  "metadata": {
    "colab": {
      "name": "Untitled0.ipynb",
      "provenance": []
    },
    "kernelspec": {
      "name": "python3",
      "display_name": "Python 3"
    }
  },
  "cells": [
    {
      "cell_type": "code",
      "metadata": {
        "id": "JfApegpsf4y9",
        "colab_type": "code",
        "colab": {}
      },
      "source": [
        "x=open('/content/icg.txt','r')\n",
        "x=x.read()"
      ],
      "execution_count": 0,
      "outputs": []
    },
    {
      "cell_type": "code",
      "metadata": {
        "id": "61qB_BKBf87-",
        "colab_type": "code",
        "outputId": "ac102b66-1919-4347-d459-70c74bd6b16a",
        "colab": {
          "base_uri": "https://localhost:8080/",
          "height": 35
        }
      },
      "source": [
        "type(x)"
      ],
      "execution_count": 17,
      "outputs": [
        {
          "output_type": "execute_result",
          "data": {
            "text/plain": [
              "str"
            ]
          },
          "metadata": {
            "tags": []
          },
          "execution_count": 17
        }
      ]
    },
    {
      "cell_type": "code",
      "metadata": {
        "id": "6hUjyUQ5mc9z",
        "colab_type": "code",
        "colab": {}
      },
      "source": [
        "test=x.split('\\n')"
      ],
      "execution_count": 0,
      "outputs": []
    },
    {
      "cell_type": "code",
      "metadata": {
        "id": "NPvGawKVpStp",
        "colab_type": "code",
        "colab": {}
      },
      "source": [
        "y=[]"
      ],
      "execution_count": 0,
      "outputs": []
    },
    {
      "cell_type": "code",
      "metadata": {
        "id": "x3C-IrvQrABk",
        "colab_type": "code",
        "colab": {}
      },
      "source": [
        "for i in test:\n",
        "  if i!='':\n",
        "    y.append(i)"
      ],
      "execution_count": 0,
      "outputs": []
    },
    {
      "cell_type": "code",
      "metadata": {
        "id": "yip99o7Tuqir",
        "colab_type": "code",
        "outputId": "febb7769-f780-4182-f6ce-ba8ae344290e",
        "colab": {
          "base_uri": "https://localhost:8080/",
          "height": 555
        }
      },
      "source": [
        "y"
      ],
      "execution_count": 21,
      "outputs": [
        {
          "output_type": "execute_result",
          "data": {
            "text/plain": [
              "['a = 2',\n",
              " 'b = 2',\n",
              " 'e = 4',\n",
              " 'd = a',\n",
              " 'flag = true',\n",
              " 'L1: ',\n",
              " 't5 = a >= e',\n",
              " 't6 = not t5',\n",
              " 'if t6 goto L2',\n",
              " 't7 = a + b',\n",
              " 'a = t7',\n",
              " 'goto L1 ',\n",
              " 'L2: ',\n",
              " 't8 = a != 3',\n",
              " 't9 = not t8',\n",
              " 'if t9 goto L3',\n",
              " 't10 = a + 1',\n",
              " 'a = t10',\n",
              " 'goto L4',\n",
              " 'L3: ',\n",
              " 't11 = 32 - 1',\n",
              " 't11 = t11 * 2',\n",
              " 'b = t11',\n",
              " 'L4: ',\n",
              " 'L4: ',\n",
              " 'a = 20',\n",
              " 't13 = a > b',\n",
              " 't14 = not t13',\n",
              " 'if t14 goto L5',\n",
              " 'goto L4 ',\n",
              " 'L5: ']"
            ]
          },
          "metadata": {
            "tags": []
          },
          "execution_count": 21
        }
      ]
    },
    {
      "cell_type": "code",
      "metadata": {
        "id": "PnguCGZkuqkm",
        "colab_type": "code",
        "colab": {}
      },
      "source": [
        ""
      ],
      "execution_count": 0,
      "outputs": []
    },
    {
      "cell_type": "code",
      "metadata": {
        "id": "SEwfBfUxuqmp",
        "colab_type": "code",
        "colab": {}
      },
      "source": [
        "arth=dict()\n",
        "arth['+']='ADD'\n",
        "arth['-']='SUB'\n",
        "arth['*']='MUL'\n",
        "arth['/']='DIV'\n",
        "\n",
        "relational=dict()\n",
        "relational['>']='BLT'\n",
        "relational['<']='BGT'\n",
        "relational['>=']='BLE'\n",
        "relational['<=']='BGE'\n",
        "relational['!=']='BE'\n",
        "relational['==']='BNE'\n"
      ],
      "execution_count": 0,
      "outputs": []
    },
    {
      "cell_type": "code",
      "metadata": {
        "id": "1I1zSZMvuqo0",
        "colab_type": "code",
        "colab": {}
      },
      "source": [
        "busy=dict()"
      ],
      "execution_count": 0,
      "outputs": []
    },
    {
      "cell_type": "code",
      "metadata": {
        "id": "JY0cnwluM1q1",
        "colab_type": "code",
        "colab": {}
      },
      "source": [
        "avail=['r0','r1','r2','r3','r4','r5','r6','r7','r8','r9','r10','r11','r12','r13','r14','r16']"
      ],
      "execution_count": 0,
      "outputs": []
    },
    {
      "cell_type": "code",
      "metadata": {
        "id": "JBeKC3DqMydk",
        "colab_type": "code",
        "colab": {}
      },
      "source": [
        "def fresh():\n",
        "  if len(avail)==0:\n",
        "    #drop()\n",
        "    print('Memory Limit Exceeded')\n",
        "    #exit(0)\n",
        "  r=avail[0]\n",
        "  del avail[0]\n",
        "  return r\n",
        "#def drop():\n",
        "\n"
      ],
      "execution_count": 0,
      "outputs": []
    },
    {
      "cell_type": "code",
      "metadata": {
        "id": "JFMbozoXuqq-",
        "colab_type": "code",
        "colab": {}
      },
      "source": [
        "def load(x):\n",
        "  global asm\n",
        "  if x.isnumeric():\n",
        "    return x\n",
        "  if x in busy:\n",
        "    return busy[x]\n",
        "  f=fresh()\n",
        "  busy[x]=f\n",
        "  y='LDR '+f+' '+x\n",
        "  asm.append(y)\n",
        "  return f\n",
        "\n"
      ],
      "execution_count": 0,
      "outputs": []
    },
    {
      "cell_type": "code",
      "metadata": {
        "id": "HhNq0fNhuqtN",
        "colab_type": "code",
        "colab": {}
      },
      "source": [
        "asm=[]"
      ],
      "execution_count": 0,
      "outputs": []
    },
    {
      "cell_type": "code",
      "metadata": {
        "id": "hze2nMP4uqwn",
        "colab_type": "code",
        "colab": {}
      },
      "source": [
        "c=-1\n",
        "for i in y:\n",
        "  \n",
        "  c+=1\n",
        "  #print(i,c)\n",
        "\n",
        "  if i=='':\n",
        "    \n",
        "    continue\n",
        "\n",
        "  try:\n",
        "    if i.split(' ')[0]=='if' or i.split(' ')[2]=='not':\n",
        "    \n",
        "      continue\n",
        "  except:\n",
        "    pass\n",
        "\n",
        "\n",
        "  rel=False\n",
        "  #assign=False\n",
        "  nott=False\n",
        "  if i=='':\n",
        "    \n",
        "    continue\n",
        "  else:\n",
        "    final(i,c,rel)"
      ],
      "execution_count": 0,
      "outputs": []
    },
    {
      "cell_type": "code",
      "metadata": {
        "id": "xIB-BBJgrFji",
        "colab_type": "code",
        "colab": {}
      },
      "source": [
        "def final(i,c,rel):\n",
        "  global asm\n",
        "  global y\n",
        "  assign=False\n",
        "  i=i.split(' = ')\n",
        "  if len(i)>1:\n",
        "    assign=True\n",
        "    j=i[1]\n",
        "    j=j.split(' ')\n",
        "    \n",
        "    if len(j)==1:\n",
        "      #f=get_reg()\n",
        "      \n",
        "      if j[0].isnumeric():\n",
        "        f=fresh()\n",
        "        x='MOV '+f+' '+j[0]\n",
        "        z='STR '+f+' '+i[0]\n",
        "        busy[i[0]]=f\n",
        "        asm.append(x)\n",
        "        asm.append(z)\n",
        "        return\n",
        "\n",
        "      else:\n",
        "        if j[0] in busy:\n",
        "          z=busy[j[0]]\n",
        "          x='STR '+z+' '+i[0]\n",
        "          asm.append(x)\n",
        "          return\n",
        "        else:\n",
        "          f=fresh()\n",
        "          x='LDR '+f+' '+j[0]\n",
        "          z='STR '+f+' '+i[0]\n",
        "          asm.append(x)\n",
        "          asm.append(z)\n",
        "\n",
        "          return\n",
        "      \n",
        "      \n",
        "\n",
        "\n",
        "    #t0 = t1 < t2\n",
        "    for k in j:\n",
        "      if k in relational:\n",
        "        #op=k\n",
        "        rel=True\n",
        "        break\n",
        "    if rel==False:\n",
        "      x=load(j[0])\n",
        "      z=load(j[2])\n",
        "      des=fresh()\n",
        "\n",
        "      op=arth[j[1]]\n",
        "      z=op+' '+des+' '+x+' '+z\n",
        "      asm.append(z)\n",
        "      z='STR '+des+' '+i[0]\n",
        "      busy[i[0]]=des\n",
        "      #asm.append(z)\n",
        "      \n",
        "      \n",
        "      return\n",
        "    \n",
        "    elif rel==True:\n",
        "      x=load(j[0])\n",
        "      z=load(j[2])\n",
        "      z='CMP '+x+' '+z\n",
        "      asm.append(z)\n",
        "      op=relational[j[1]]\n",
        "      #print(j[1])\n",
        "      #print(y[c+2])\n",
        "      z=op+' '+y[c+2][-2:]\n",
        "      asm.append(z)\n",
        "      return\n",
        "  else:\n",
        "    if i[0][0:4]=='goto':\n",
        "      z='B '+i[0][5:]\n",
        "      asm.append(z)\n",
        "      return\n",
        "    else:\n",
        "      z=i[0]\n",
        "      asm.append(z)\n",
        "      return\n",
        "  return\n",
        "\n",
        "\n",
        "\n",
        "\n",
        "\n",
        "      "
      ],
      "execution_count": 0,
      "outputs": []
    },
    {
      "cell_type": "code",
      "metadata": {
        "id": "g7sdafbiN_Zw",
        "colab_type": "code",
        "outputId": "8ffa72b5-ba4e-40c5-a38e-1a35ddf189ee",
        "colab": {
          "base_uri": "https://localhost:8080/",
          "height": 35
        }
      },
      "source": [
        "y[c+2][-2:]"
      ],
      "execution_count": 0,
      "outputs": [
        {
          "output_type": "execute_result",
          "data": {
            "text/plain": [
              "'t0'"
            ]
          },
          "metadata": {
            "tags": []
          },
          "execution_count": 30
        }
      ]
    },
    {
      "cell_type": "code",
      "metadata": {
        "id": "eHDUXkLbQxh6",
        "colab_type": "code",
        "outputId": "3521ae1e-a2e1-44fd-f8ec-777c219250ff",
        "colab": {
          "base_uri": "https://localhost:8080/",
          "height": 35
        }
      },
      "source": [
        "relational['<']"
      ],
      "execution_count": 0,
      "outputs": [
        {
          "output_type": "execute_result",
          "data": {
            "text/plain": [
              "'BLT'"
            ]
          },
          "metadata": {
            "tags": []
          },
          "execution_count": 33
        }
      ]
    },
    {
      "cell_type": "code",
      "metadata": {
        "id": "wbAed08_Rldt",
        "colab_type": "code",
        "outputId": "d7fe09e9-22b0-448c-beb2-33e1465309cf",
        "colab": {
          "base_uri": "https://localhost:8080/",
          "height": 589
        }
      },
      "source": [
        "asm"
      ],
      "execution_count": 30,
      "outputs": [
        {
          "output_type": "execute_result",
          "data": {
            "text/plain": [
              "['MOV r0 2',\n",
              " 'STR r0 a',\n",
              " 'MOV r1 2',\n",
              " 'STR r1 b',\n",
              " 'MOV r2 4',\n",
              " 'STR r2 e',\n",
              " 'STR r0 d',\n",
              " 'LDR r3 true',\n",
              " 'STR r3 flag',\n",
              " 'L1: ',\n",
              " 'CMP r0 r2',\n",
              " 'BLE L2',\n",
              " 'ADD r4 r0 r1',\n",
              " 'STR r4 a',\n",
              " 'B L1 ',\n",
              " 'L2: ',\n",
              " 'CMP r0 3',\n",
              " 'BE L3',\n",
              " 'ADD r5 r0 1',\n",
              " 'STR r5 a',\n",
              " 'B L4',\n",
              " 'L3: ',\n",
              " 'SUB r6 32 1',\n",
              " 'MUL r7 r6 2',\n",
              " 'STR r7 b',\n",
              " 'L4: ',\n",
              " 'L4: ',\n",
              " 'MOV r8 20',\n",
              " 'STR r8 a',\n",
              " 'CMP r8 r1',\n",
              " 'BLT L5',\n",
              " 'B L4 ',\n",
              " 'L5: ']"
            ]
          },
          "metadata": {
            "tags": []
          },
          "execution_count": 30
        }
      ]
    },
    {
      "cell_type": "code",
      "metadata": {
        "id": "b_AEtn9LSS44",
        "colab_type": "code",
        "outputId": "842ab6f6-087c-4faf-80ff-500459707fbd",
        "colab": {
          "base_uri": "https://localhost:8080/",
          "height": 381
        }
      },
      "source": [
        "y"
      ],
      "execution_count": 0,
      "outputs": [
        {
          "output_type": "execute_result",
          "data": {
            "text/plain": [
              "['a = 5',\n",
              " '',\n",
              " 'b = 6',\n",
              " '',\n",
              " 'L1:',\n",
              " '',\n",
              " 't0 = a < 20',\n",
              " '',\n",
              " 't1 = not t0',\n",
              " 'if t1 goto L2',\n",
              " '',\n",
              " 't2 = b + 1',\n",
              " '',\n",
              " 'b = t2',\n",
              " '',\n",
              " 't3 = a + 1',\n",
              " '',\n",
              " 'a = t3',\n",
              " '',\n",
              " 'goto L1',\n",
              " 'L2:']"
            ]
          },
          "metadata": {
            "tags": []
          },
          "execution_count": 133
        }
      ]
    },
    {
      "cell_type": "code",
      "metadata": {
        "id": "-j_uclO1T96A",
        "colab_type": "code",
        "outputId": "29f41d20-45ef-43c4-9d6f-afef4aa52d66",
        "colab": {
          "base_uri": "https://localhost:8080/",
          "height": 35
        }
      },
      "source": [
        "busy"
      ],
      "execution_count": 34,
      "outputs": [
        {
          "output_type": "execute_result",
          "data": {
            "text/plain": [
              "{'a': 'r8', 'b': 'r1', 'e': 'r2', 't10': 'r5', 't11': 'r7', 't7': 'r4'}"
            ]
          },
          "metadata": {
            "tags": []
          },
          "execution_count": 34
        }
      ]
    },
    {
      "cell_type": "code",
      "metadata": {
        "id": "EI9KeDlNVKIk",
        "colab_type": "code",
        "colab": {
          "base_uri": "https://localhost:8080/",
          "height": 589
        },
        "outputId": "ff2a2f13-cba9-4cea-f745-ce144f62caf0"
      },
      "source": [
        "for i in asm:\n",
        "  if i[0]=='L' and i[1]!='D':\n",
        "    print(i)\n",
        "  else:\n",
        "    print('\\t',i)"
      ],
      "execution_count": 33,
      "outputs": [
        {
          "output_type": "stream",
          "text": [
            "\t MOV r0 2\n",
            "\t STR r0 a\n",
            "\t MOV r1 2\n",
            "\t STR r1 b\n",
            "\t MOV r2 4\n",
            "\t STR r2 e\n",
            "\t STR r0 d\n",
            "\t LDR r3 true\n",
            "\t STR r3 flag\n",
            "L1: \n",
            "\t CMP r0 r2\n",
            "\t BLE L2\n",
            "\t ADD r4 r0 r1\n",
            "\t STR r4 a\n",
            "\t B L1 \n",
            "L2: \n",
            "\t CMP r0 3\n",
            "\t BE L3\n",
            "\t ADD r5 r0 1\n",
            "\t STR r5 a\n",
            "\t B L4\n",
            "L3: \n",
            "\t SUB r6 32 1\n",
            "\t MUL r7 r6 2\n",
            "\t STR r7 b\n",
            "L4: \n",
            "L4: \n",
            "\t MOV r8 20\n",
            "\t STR r8 a\n",
            "\t CMP r8 r1\n",
            "\t BLT L5\n",
            "\t B L4 \n",
            "L5: \n"
          ],
          "name": "stdout"
        }
      ]
    },
    {
      "cell_type": "code",
      "metadata": {
        "id": "gkSL3isBg1cP",
        "colab_type": "code",
        "colab": {
          "base_uri": "https://localhost:8080/",
          "height": 35
        },
        "outputId": "2f629185-f45f-4f24-da13-c67da489d32f"
      },
      "source": [
        "avail"
      ],
      "execution_count": 35,
      "outputs": [
        {
          "output_type": "execute_result",
          "data": {
            "text/plain": [
              "['r9', 'r10', 'r11', 'r12', 'r13', 'r14', 'r16']"
            ]
          },
          "metadata": {
            "tags": []
          },
          "execution_count": 35
        }
      ]
    },
    {
      "cell_type": "code",
      "metadata": {
        "id": "1IZc8QNMhZKg",
        "colab_type": "code",
        "colab": {
          "base_uri": "https://localhost:8080/",
          "height": 35
        },
        "outputId": "2b012953-3c82-4ded-d6ff-2749cb96684e"
      },
      "source": [
        "busy"
      ],
      "execution_count": 36,
      "outputs": [
        {
          "output_type": "execute_result",
          "data": {
            "text/plain": [
              "{'a': 'r8', 'b': 'r1', 'e': 'r2', 't10': 'r5', 't11': 'r7', 't7': 'r4'}"
            ]
          },
          "metadata": {
            "tags": []
          },
          "execution_count": 36
        }
      ]
    },
    {
      "cell_type": "code",
      "metadata": {
        "id": "xoJtStxAhb9I",
        "colab_type": "code",
        "colab": {}
      },
      "source": [
        ""
      ],
      "execution_count": 0,
      "outputs": []
    }
  ]
}